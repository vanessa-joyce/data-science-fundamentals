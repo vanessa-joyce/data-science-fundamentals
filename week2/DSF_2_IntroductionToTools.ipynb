# ----------------------------
# ----- Calculation game -----
# ----------------------------

import operator
import random

repeat = True
operators = [('+', operator.add), ('-', operator.sub), ('*', operator.mul)]
counter2 = 0
success = -1

while repeat == True:
  print("Welcome to a new round!")
  if success == 0:
    print("The last time you did not manage to guess the secret number.")
  elif success == 1:
    print("The last time you managed to guess the secret number with", counter2, "trials! Let's see if you can beat your own record!")

  answer = 1
  solution = 2
  guess = 1
  counter1 = 0
  counter2 = 0

  while answer != solution:
      
      # Please insert the logic for inserting the 1. and 2. numbers.
      # Tip: Maybe you would like to add different texts, depending on the previous performance...?
      
      a = int(input("Please insert number 1: "))
      b = int(input("Please insert number 2: "))

      counter1 = counter1 + 1

      # Hitting the secret number:    
      op, fn = random.choice(operators)
      solution = fn(a, b)
      
      if a in range(9, 12):
          print("You hit the secret number and won!")
          answer = solution
          break
      else:
          print("{} {} {} = ".format(a, op, b))
          answer = int(input("Please type in the correct result of the calculation: "))

  # -------------------------
  # ----- Guessing game -----
  # -------------------------
  print("The system generated a random number between 5 and 99 for you. Can you manage to guess it in a maximum of 10 tries?")
  randomNumber = random.randint(5, 99)
  while guess != randomNumber:
      if counter2 == 10:
          print("Out of 10 trials")
          success = 0
          break

      else:          
          counter2 = counter2 + 1
          guess = int(input("Please insert guess: "))                 
          if guess < randomNumber:
              print("Guess is too low")
          elif guess > randomNumber:
              print("Guess is too high")
          else:
              print("This is the correct answer!")
              success = 1
              break

  # -----------------------
  # ----- End results -----
  # -----------------------
  if success == -1:
    print("Something seems to be broken.")
  elif success == 0:
    print("Oh no! You did not master the quiz!")
  else:
    print("Congratulations, you made it after", counter2, "trials!")
  
  repeat = input("Do you want to try again? (Yes / No)")
  if repeat != "Yes":
    repeat = False
    
